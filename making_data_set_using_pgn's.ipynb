{
  "nbformat": 4,
  "nbformat_minor": 0,
  "metadata": {
    "colab": {
      "provenance": [],
      "gpuType": "T4"
    },
    "kernelspec": {
      "name": "python3",
      "display_name": "Python 3"
    },
    "language_info": {
      "name": "python"
    },
    "accelerator": "GPU"
  },
  "cells": [
    {
      "cell_type": "markdown",
      "source": [
        "## making datasets"
      ],
      "metadata": {
        "id": "DeESgKGJIysr"
      }
    },
    {
      "cell_type": "code",
      "source": [
        "!pip install python-chess"
      ],
      "metadata": {
        "colab": {
          "base_uri": "https://localhost:8080/"
        },
        "id": "FrLZS_tfY8Rt",
        "outputId": "3a4f5031-ab9f-4bc1-af29-7a29344d9aee"
      },
      "execution_count": null,
      "outputs": [
        {
          "output_type": "stream",
          "name": "stdout",
          "text": [
            "Collecting python-chess\n",
            "  Downloading python_chess-1.999-py3-none-any.whl.metadata (776 bytes)\n",
            "Collecting chess<2,>=1 (from python-chess)\n",
            "  Downloading chess-1.11.1.tar.gz (156 kB)\n",
            "\u001b[2K     \u001b[90m━━━━━━━━━━━━━━━━━━━━━━━━━━━━━━━━━━━━━━━━\u001b[0m \u001b[32m156.5/156.5 kB\u001b[0m \u001b[31m2.8 MB/s\u001b[0m eta \u001b[36m0:00:00\u001b[0m\n",
            "\u001b[?25h  Preparing metadata (setup.py) ... \u001b[?25l\u001b[?25hdone\n",
            "Downloading python_chess-1.999-py3-none-any.whl (1.4 kB)\n",
            "Building wheels for collected packages: chess\n",
            "  Building wheel for chess (setup.py) ... \u001b[?25l\u001b[?25hdone\n",
            "  Created wheel for chess: filename=chess-1.11.1-py3-none-any.whl size=148497 sha256=7159fade789c230807a4c4eab3d248198d840aba66833b1105fbcdd931f87199\n",
            "  Stored in directory: /root/.cache/pip/wheels/2e/2d/23/1bfc95db984ed3ecbf6764167dc7526d0ab521cf9a9852544e\n",
            "Successfully built chess\n",
            "Installing collected packages: chess, python-chess\n",
            "Successfully installed chess-1.11.1 python-chess-1.999\n"
          ]
        }
      ]
    },
    {
      "cell_type": "code",
      "source": [
        "!pip  install cairosvg"
      ],
      "metadata": {
        "colab": {
          "base_uri": "https://localhost:8080/"
        },
        "id": "7Nx6Qgmbptuf",
        "outputId": "c3bbe229-de0e-4a49-a1ff-fd734f6d2617"
      },
      "execution_count": null,
      "outputs": [
        {
          "output_type": "stream",
          "name": "stdout",
          "text": [
            "Collecting cairosvg\n",
            "  Downloading CairoSVG-2.7.1-py3-none-any.whl.metadata (2.7 kB)\n",
            "Collecting cairocffi (from cairosvg)\n",
            "  Downloading cairocffi-1.7.1-py3-none-any.whl.metadata (3.3 kB)\n",
            "Collecting cssselect2 (from cairosvg)\n",
            "  Downloading cssselect2-0.7.0-py3-none-any.whl.metadata (2.9 kB)\n",
            "Requirement already satisfied: defusedxml in /usr/local/lib/python3.10/dist-packages (from cairosvg) (0.7.1)\n",
            "Requirement already satisfied: pillow in /usr/local/lib/python3.10/dist-packages (from cairosvg) (11.0.0)\n",
            "Requirement already satisfied: tinycss2 in /usr/local/lib/python3.10/dist-packages (from cairosvg) (1.4.0)\n",
            "Requirement already satisfied: cffi>=1.1.0 in /usr/local/lib/python3.10/dist-packages (from cairocffi->cairosvg) (1.17.1)\n",
            "Requirement already satisfied: webencodings in /usr/local/lib/python3.10/dist-packages (from cssselect2->cairosvg) (0.5.1)\n",
            "Requirement already satisfied: pycparser in /usr/local/lib/python3.10/dist-packages (from cffi>=1.1.0->cairocffi->cairosvg) (2.22)\n",
            "Downloading CairoSVG-2.7.1-py3-none-any.whl (43 kB)\n",
            "\u001b[2K   \u001b[90m━━━━━━━━━━━━━━━━━━━━━━━━━━━━━━━━━━━━━━━━\u001b[0m \u001b[32m43.2/43.2 kB\u001b[0m \u001b[31m3.1 MB/s\u001b[0m eta \u001b[36m0:00:00\u001b[0m\n",
            "\u001b[?25hDownloading cairocffi-1.7.1-py3-none-any.whl (75 kB)\n",
            "\u001b[2K   \u001b[90m━━━━━━━━━━━━━━━━━━━━━━━━━━━━━━━━━━━━━━━━\u001b[0m \u001b[32m75.6/75.6 kB\u001b[0m \u001b[31m3.0 MB/s\u001b[0m eta \u001b[36m0:00:00\u001b[0m\n",
            "\u001b[?25hDownloading cssselect2-0.7.0-py3-none-any.whl (15 kB)\n",
            "Installing collected packages: cssselect2, cairocffi, cairosvg\n",
            "Successfully installed cairocffi-1.7.1 cairosvg-2.7.1 cssselect2-0.7.0\n"
          ]
        }
      ]
    },
    {
      "cell_type": "code",
      "source": [
        "!unzip '/content/drive/MyDrive/dataset.zip' -d '/content/games'"
      ],
      "metadata": {
        "colab": {
          "base_uri": "https://localhost:8080/"
        },
        "collapsed": true,
        "id": "iEnGBKOfjdSS",
        "outputId": "27e8430f-1d1e-4e4b-e186-9244c3b2c6b7"
      },
      "execution_count": null,
      "outputs": [
        {
          "output_type": "stream",
          "name": "stdout",
          "text": [
            "Archive:  /content/drive/MyDrive/dataset.zip\n",
            "  inflating: /content/games/dataset/game_1.txt  \n",
            "  inflating: /content/games/dataset/game_10.txt  \n",
            "  inflating: /content/games/dataset/game_100.txt  \n",
            "  inflating: /content/games/dataset/game_101.txt  \n",
            "  inflating: /content/games/dataset/game_102.txt  \n",
            "  inflating: /content/games/dataset/game_103.txt  \n",
            "  inflating: /content/games/dataset/game_104.txt  \n",
            "  inflating: /content/games/dataset/game_105.txt  \n",
            "  inflating: /content/games/dataset/game_106.txt  \n",
            "  inflating: /content/games/dataset/game_107.txt  \n",
            "  inflating: /content/games/dataset/game_108.txt  \n",
            "  inflating: /content/games/dataset/game_109.txt  \n",
            "  inflating: /content/games/dataset/game_11.txt  \n",
            "  inflating: /content/games/dataset/game_110.txt  \n",
            "  inflating: /content/games/dataset/game_111.txt  \n",
            "  inflating: /content/games/dataset/game_112.txt  \n",
            "  inflating: /content/games/dataset/game_113.txt  \n",
            "  inflating: /content/games/dataset/game_114.txt  \n",
            "  inflating: /content/games/dataset/game_115.txt  \n",
            "  inflating: /content/games/dataset/game_116.txt  \n",
            "  inflating: /content/games/dataset/game_117.txt  \n",
            "  inflating: /content/games/dataset/game_118.txt  \n",
            "  inflating: /content/games/dataset/game_119.txt  \n",
            "  inflating: /content/games/dataset/game_12.txt  \n",
            "  inflating: /content/games/dataset/game_120.txt  \n",
            "  inflating: /content/games/dataset/game_121.txt  \n",
            "  inflating: /content/games/dataset/game_122.txt  \n",
            "  inflating: /content/games/dataset/game_123.txt  \n",
            "  inflating: /content/games/dataset/game_124.txt  \n",
            "  inflating: /content/games/dataset/game_125.txt  \n",
            "  inflating: /content/games/dataset/game_126.txt  \n",
            "  inflating: /content/games/dataset/game_127.txt  \n",
            "  inflating: /content/games/dataset/game_128.txt  \n",
            "  inflating: /content/games/dataset/game_129.txt  \n",
            "  inflating: /content/games/dataset/game_13.txt  \n",
            "  inflating: /content/games/dataset/game_130.txt  \n",
            "  inflating: /content/games/dataset/game_131.txt  \n",
            "  inflating: /content/games/dataset/game_132.txt  \n",
            "  inflating: /content/games/dataset/game_133.txt  \n",
            "  inflating: /content/games/dataset/game_134.txt  \n",
            "  inflating: /content/games/dataset/game_135.txt  \n",
            "  inflating: /content/games/dataset/game_136.txt  \n",
            "  inflating: /content/games/dataset/game_137.txt  \n",
            "  inflating: /content/games/dataset/game_138.txt  \n",
            "  inflating: /content/games/dataset/game_14.txt  \n",
            "  inflating: /content/games/dataset/game_15.txt  \n",
            "  inflating: /content/games/dataset/game_16.txt  \n",
            "  inflating: /content/games/dataset/game_17.txt  \n",
            "  inflating: /content/games/dataset/game_18.txt  \n",
            "  inflating: /content/games/dataset/game_19.txt  \n",
            "  inflating: /content/games/dataset/game_2.txt  \n",
            "  inflating: /content/games/dataset/game_20.txt  \n",
            "  inflating: /content/games/dataset/game_21.txt  \n",
            "  inflating: /content/games/dataset/game_22.txt  \n",
            "  inflating: /content/games/dataset/game_23.txt  \n",
            "  inflating: /content/games/dataset/game_24.txt  \n",
            "  inflating: /content/games/dataset/game_25.txt  \n",
            "  inflating: /content/games/dataset/game_26.txt  \n",
            "  inflating: /content/games/dataset/game_27.txt  \n",
            "  inflating: /content/games/dataset/game_28.txt  \n",
            "  inflating: /content/games/dataset/game_29.txt  \n",
            "  inflating: /content/games/dataset/game_3.txt  \n",
            "  inflating: /content/games/dataset/game_30.txt  \n",
            "  inflating: /content/games/dataset/game_31.txt  \n",
            "  inflating: /content/games/dataset/game_32.txt  \n",
            "  inflating: /content/games/dataset/game_33.txt  \n",
            "  inflating: /content/games/dataset/game_34.txt  \n",
            "  inflating: /content/games/dataset/game_35.txt  \n",
            "  inflating: /content/games/dataset/game_36.txt  \n",
            "  inflating: /content/games/dataset/game_37.txt  \n",
            "  inflating: /content/games/dataset/game_38.txt  \n",
            "  inflating: /content/games/dataset/game_39.txt  \n",
            "  inflating: /content/games/dataset/game_4.txt  \n",
            "  inflating: /content/games/dataset/game_40.txt  \n",
            "  inflating: /content/games/dataset/game_41.txt  \n",
            "  inflating: /content/games/dataset/game_42.txt  \n",
            "  inflating: /content/games/dataset/game_43.txt  \n",
            "  inflating: /content/games/dataset/game_44.txt  \n",
            "  inflating: /content/games/dataset/game_45.txt  \n",
            "  inflating: /content/games/dataset/game_46.txt  \n",
            "  inflating: /content/games/dataset/game_47.txt  \n",
            "  inflating: /content/games/dataset/game_48.txt  \n",
            "  inflating: /content/games/dataset/game_49.txt  \n",
            "  inflating: /content/games/dataset/game_5.txt  \n",
            "  inflating: /content/games/dataset/game_50.txt  \n",
            "  inflating: /content/games/dataset/game_51.txt  \n",
            "  inflating: /content/games/dataset/game_52.txt  \n",
            "  inflating: /content/games/dataset/game_53.txt  \n",
            "  inflating: /content/games/dataset/game_54.txt  \n",
            "  inflating: /content/games/dataset/game_55.txt  \n",
            "  inflating: /content/games/dataset/game_56.txt  \n",
            "  inflating: /content/games/dataset/game_57.txt  \n",
            "  inflating: /content/games/dataset/game_58.txt  \n",
            "  inflating: /content/games/dataset/game_59.txt  \n",
            "  inflating: /content/games/dataset/game_6.txt  \n",
            "  inflating: /content/games/dataset/game_60.txt  \n",
            "  inflating: /content/games/dataset/game_61.txt  \n",
            "  inflating: /content/games/dataset/game_62.txt  \n",
            "  inflating: /content/games/dataset/game_63.txt  \n",
            "  inflating: /content/games/dataset/game_64.txt  \n",
            "  inflating: /content/games/dataset/game_65.txt  \n",
            "  inflating: /content/games/dataset/game_66.txt  \n",
            "  inflating: /content/games/dataset/game_67.txt  \n",
            "  inflating: /content/games/dataset/game_68.txt  \n",
            "  inflating: /content/games/dataset/game_69.txt  \n",
            "  inflating: /content/games/dataset/game_7.txt  \n",
            "  inflating: /content/games/dataset/game_70.txt  \n",
            "  inflating: /content/games/dataset/game_71.txt  \n",
            "  inflating: /content/games/dataset/game_72.txt  \n",
            "  inflating: /content/games/dataset/game_73.txt  \n",
            "  inflating: /content/games/dataset/game_74.txt  \n",
            "  inflating: /content/games/dataset/game_75.txt  \n",
            "  inflating: /content/games/dataset/game_76.txt  \n",
            "  inflating: /content/games/dataset/game_77.txt  \n",
            "  inflating: /content/games/dataset/game_78.txt  \n",
            "  inflating: /content/games/dataset/game_79.txt  \n",
            "  inflating: /content/games/dataset/game_8.txt  \n",
            "  inflating: /content/games/dataset/game_80.txt  \n",
            "  inflating: /content/games/dataset/game_81.txt  \n",
            "  inflating: /content/games/dataset/game_82.txt  \n",
            "  inflating: /content/games/dataset/game_83.txt  \n",
            "  inflating: /content/games/dataset/game_84.txt  \n",
            "  inflating: /content/games/dataset/game_85.txt  \n",
            "  inflating: /content/games/dataset/game_86.txt  \n",
            "  inflating: /content/games/dataset/game_87.txt  \n",
            "  inflating: /content/games/dataset/game_88.txt  \n",
            "  inflating: /content/games/dataset/game_89.txt  \n",
            "  inflating: /content/games/dataset/game_9.txt  \n",
            "  inflating: /content/games/dataset/game_90.txt  \n",
            "  inflating: /content/games/dataset/game_91.txt  \n",
            "  inflating: /content/games/dataset/game_92.txt  \n",
            "  inflating: /content/games/dataset/game_93.txt  \n",
            "  inflating: /content/games/dataset/game_94.txt  \n",
            "  inflating: /content/games/dataset/game_95.txt  \n",
            "  inflating: /content/games/dataset/game_96.txt  \n",
            "  inflating: /content/games/dataset/game_97.txt  \n",
            "  inflating: /content/games/dataset/game_98.txt  \n",
            "  inflating: /content/games/dataset/game_99.txt  \n"
          ]
        }
      ]
    },
    {
      "cell_type": "code",
      "source": [
        "from PIL import Image\n",
        "import chess\n",
        "import chess.svg\n",
        "import cairosvg\n",
        "import os\n",
        "\n",
        "def generate_boards_from_fens(folder_path, output_board_dir,output_labels_directory):\n",
        "    os.makedirs(output_board_dir, exist_ok=True)\n",
        "\n",
        "    count = 0\n",
        "\n",
        "    for filename in os.listdir(folder_path):\n",
        "      fen_file_path = os.path.join(folder_path, filename)\n",
        "      if filename.endswith(\".txt\"):\n",
        "        fen_file_path = os.path.join(folder_path, filename)\n",
        "\n",
        "      with open(fen_file_path, 'r') as file:\n",
        "        fens = [line.strip() for line in file if line.strip()]\n",
        "\n",
        "        for index, fen in enumerate(fens):\n",
        "            count += 1\n",
        "            save_yolo_labels(fen, count, output_labels_directory)\n",
        "            try:\n",
        "              board = chess.Board(fen)\n",
        "              svg_data = chess.svg.board(board, coordinates=False)\n",
        "\n",
        "              # output_path = os.path.join(output_board_dir, f\"image_{count}.png\")\n",
        "              # Convert SVG to PNG with specific dimensions (416x416)\n",
        "\n",
        "              cairosvg.svg2png(bytestring=svg_data, write_to=output_path, output_width=416, output_height=416)\n",
        "\n",
        "              print(f\"Saved board image: {output_path}\")\n",
        "            except Exception as e:\n",
        "              print(f\"Error processing FEN at line {count}: {e}\")\n",
        "\n",
        "folder_path = \"/content/games/dataset\"\n",
        "output_board_directory = \"/content/images\"\n",
        "output_labels_directory = \"/content/labels\"\n",
        "\n",
        "generate_boards_from_fens(folder_path, output_board_directory, output_labels_directory)\n"
      ],
      "metadata": {
        "id": "KwAxPcaxpMf2",
        "collapsed": true
      },
      "execution_count": null,
      "outputs": []
    },
    {
      "cell_type": "code",
      "source": [
        "import chess\n",
        "import os\n",
        "\n",
        "def fen_to_yolo_labels(fen, image_size=416):\n",
        "    board = chess.Board(fen)\n",
        "    square_size = image_size // 8\n",
        "    labels = []\n",
        "\n",
        "    for square, piece in board.piece_map().items():\n",
        "      row, col = divmod(square, 8)\n",
        "      center_x = (col + 0.5) * square_size\n",
        "      center_y = (7 - row + 0.5) * square_size\n",
        "\n",
        "      width = height = square_size\n",
        "\n",
        "      piece_class = {'p': 0, 'r': 1, 'n': 2, 'b': 3, 'q': 4, 'k': 5}[piece.symbol().lower()]\n",
        "\n",
        "      if piece.symbol().isupper():\n",
        "          piece_class += 6\n",
        "\n",
        "      center_x_norm = center_x / image_size\n",
        "      center_y_norm = center_y / image_size\n",
        "      width_norm = width / image_size\n",
        "      height_norm = height / image_size\n",
        "\n",
        "      labels.append(f\"{piece_class} {center_x_norm:.6f} {center_y_norm:.6f} {width_norm:.6f} {height_norm:.6f}\")\n",
        "    return labels\n",
        "\n",
        "\n",
        "def save_yolo_labels(fen, idx, output_dir, image_size=416):\n",
        "    labels = fen_to_yolo_labels(fen.strip(), image_size)\n",
        "    with open(os.path.join(output_dir, f\"image_{idx}.txt\"), 'w') as label_file:\n",
        "        label_file.write('\\n'.join(labels))\n"
      ],
      "metadata": {
        "id": "s_y7ZnfrqbAs"
      },
      "execution_count": null,
      "outputs": []
    },
    {
      "cell_type": "code",
      "source": [
        "import shutil\n",
        "# folder_path = '/content/images'\n",
        "# zip_path = '/content/images.zip'\n",
        "\n",
        "# shutil.make_archive(zip_path, 'zip', folder_path)\n",
        "\n",
        "folder_path = '/content/labels'\n",
        "zip_path = '/content/labels.zip'\n",
        "\n",
        "shutil.make_archive(zip_path, 'zip', folder_path)"
      ],
      "metadata": {
        "colab": {
          "base_uri": "https://localhost:8080/",
          "height": 35
        },
        "id": "AkAf1q-JvXwE",
        "outputId": "57df2486-d276-402b-acfc-0711e808f084"
      },
      "execution_count": null,
      "outputs": [
        {
          "output_type": "execute_result",
          "data": {
            "text/plain": [
              "'/content/labels.zip.zip'"
            ],
            "application/vnd.google.colaboratory.intrinsic+json": {
              "type": "string"
            }
          },
          "metadata": {},
          "execution_count": 80
        }
      ]
    }
  ]
}